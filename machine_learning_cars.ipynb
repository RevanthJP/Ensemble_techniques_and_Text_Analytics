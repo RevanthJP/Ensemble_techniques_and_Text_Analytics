{
 "cells": [
  {
   "cell_type": "markdown",
   "id": "b1e37ecc",
   "metadata": {},
   "source": [
    "## 1. Basic data summary, Univariate, Bivariate analysis, graphs, checking correlations, outliers and missing values treatment (if necessary) and check the basic descriptive statistics of the dataset."
   ]
  },
  {
   "cell_type": "code",
   "execution_count": 1,
   "id": "61ffc576",
   "metadata": {},
   "outputs": [],
   "source": [
    "# import necessarry libraries\n",
    "import numpy as np\n",
    "import pandas as pd\n",
    "import matplotlib.pyplot as plt\n",
    "import seaborn as sns\n",
    "\n",
    "import warnings\n",
    "\n",
    "warnings.filterwarnings(\"ignore\")"
   ]
  },
  {
   "cell_type": "code",
   "execution_count": 249,
   "id": "cd1c5ba1",
   "metadata": {},
   "outputs": [],
   "source": [
    "# importing dataset\n",
    "\n",
    "cars = pd.read_csv(\"Cars (2) (1).csv\")"
   ]
  },
  {
   "cell_type": "code",
   "execution_count": 250,
   "id": "e59b294e",
   "metadata": {},
   "outputs": [
    {
     "data": {
      "text/html": [
       "<div>\n",
       "<style scoped>\n",
       "    .dataframe tbody tr th:only-of-type {\n",
       "        vertical-align: middle;\n",
       "    }\n",
       "\n",
       "    .dataframe tbody tr th {\n",
       "        vertical-align: top;\n",
       "    }\n",
       "\n",
       "    .dataframe thead th {\n",
       "        text-align: right;\n",
       "    }\n",
       "</style>\n",
       "<table border=\"1\" class=\"dataframe\">\n",
       "  <thead>\n",
       "    <tr style=\"text-align: right;\">\n",
       "      <th></th>\n",
       "      <th>Age</th>\n",
       "      <th>Gender</th>\n",
       "      <th>Engineer</th>\n",
       "      <th>MBA</th>\n",
       "      <th>Work Exp</th>\n",
       "      <th>Salary</th>\n",
       "      <th>Distance</th>\n",
       "      <th>license</th>\n",
       "      <th>Transport</th>\n",
       "    </tr>\n",
       "  </thead>\n",
       "  <tbody>\n",
       "    <tr>\n",
       "      <th>0</th>\n",
       "      <td>28</td>\n",
       "      <td>Male</td>\n",
       "      <td>0</td>\n",
       "      <td>0</td>\n",
       "      <td>4</td>\n",
       "      <td>14.3</td>\n",
       "      <td>3.2</td>\n",
       "      <td>0</td>\n",
       "      <td>Public Transport</td>\n",
       "    </tr>\n",
       "    <tr>\n",
       "      <th>1</th>\n",
       "      <td>23</td>\n",
       "      <td>Female</td>\n",
       "      <td>1</td>\n",
       "      <td>0</td>\n",
       "      <td>4</td>\n",
       "      <td>8.3</td>\n",
       "      <td>3.3</td>\n",
       "      <td>0</td>\n",
       "      <td>Public Transport</td>\n",
       "    </tr>\n",
       "    <tr>\n",
       "      <th>2</th>\n",
       "      <td>29</td>\n",
       "      <td>Male</td>\n",
       "      <td>1</td>\n",
       "      <td>0</td>\n",
       "      <td>7</td>\n",
       "      <td>13.4</td>\n",
       "      <td>4.1</td>\n",
       "      <td>0</td>\n",
       "      <td>Public Transport</td>\n",
       "    </tr>\n",
       "    <tr>\n",
       "      <th>3</th>\n",
       "      <td>28</td>\n",
       "      <td>Female</td>\n",
       "      <td>1</td>\n",
       "      <td>1</td>\n",
       "      <td>5</td>\n",
       "      <td>13.4</td>\n",
       "      <td>4.5</td>\n",
       "      <td>0</td>\n",
       "      <td>Public Transport</td>\n",
       "    </tr>\n",
       "    <tr>\n",
       "      <th>4</th>\n",
       "      <td>27</td>\n",
       "      <td>Male</td>\n",
       "      <td>1</td>\n",
       "      <td>0</td>\n",
       "      <td>4</td>\n",
       "      <td>13.4</td>\n",
       "      <td>4.6</td>\n",
       "      <td>0</td>\n",
       "      <td>Public Transport</td>\n",
       "    </tr>\n",
       "  </tbody>\n",
       "</table>\n",
       "</div>"
      ],
      "text/plain": [
       "   Age  Gender  Engineer  MBA  Work Exp  Salary  Distance  license  \\\n",
       "0   28    Male         0    0         4    14.3       3.2        0   \n",
       "1   23  Female         1    0         4     8.3       3.3        0   \n",
       "2   29    Male         1    0         7    13.4       4.1        0   \n",
       "3   28  Female         1    1         5    13.4       4.5        0   \n",
       "4   27    Male         1    0         4    13.4       4.6        0   \n",
       "\n",
       "          Transport  \n",
       "0  Public Transport  \n",
       "1  Public Transport  \n",
       "2  Public Transport  \n",
       "3  Public Transport  \n",
       "4  Public Transport  "
      ]
     },
     "execution_count": 250,
     "metadata": {},
     "output_type": "execute_result"
    }
   ],
   "source": [
    "cars.head()"
   ]
  },
  {
   "cell_type": "code",
   "execution_count": 4,
   "id": "90a0efdd",
   "metadata": {},
   "outputs": [
    {
     "data": {
      "text/plain": [
       "(444, 9)"
      ]
     },
     "execution_count": 4,
     "metadata": {},
     "output_type": "execute_result"
    }
   ],
   "source": [
    "cars.shape"
   ]
  },
  {
   "cell_type": "code",
   "execution_count": 5,
   "id": "39aa84b9",
   "metadata": {},
   "outputs": [
    {
     "name": "stdout",
     "output_type": "stream",
     "text": [
      "<class 'pandas.core.frame.DataFrame'>\n",
      "RangeIndex: 444 entries, 0 to 443\n",
      "Data columns (total 9 columns):\n",
      " #   Column     Non-Null Count  Dtype  \n",
      "---  ------     --------------  -----  \n",
      " 0   Age        444 non-null    int64  \n",
      " 1   Gender     444 non-null    object \n",
      " 2   Engineer   444 non-null    int64  \n",
      " 3   MBA        444 non-null    int64  \n",
      " 4   Work Exp   444 non-null    int64  \n",
      " 5   Salary     444 non-null    float64\n",
      " 6   Distance   444 non-null    float64\n",
      " 7   license    444 non-null    int64  \n",
      " 8   Transport  444 non-null    object \n",
      "dtypes: float64(2), int64(5), object(2)\n",
      "memory usage: 31.3+ KB\n"
     ]
    }
   ],
   "source": [
    "cars.info()"
   ]
  },
  {
   "cell_type": "code",
   "execution_count": 6,
   "id": "6de3bfd0",
   "metadata": {},
   "outputs": [],
   "source": [
    "# As we know that Engineer, MBA and license are categorical variables, we need to convert them into object field\n",
    "\n",
    "cars['Engineer'] = cars['Engineer'].astype('object')\n",
    "cars['MBA'] = cars['MBA'].astype('object')\n",
    "cars['license'] = cars['license'].astype('object')"
   ]
  },
  {
   "cell_type": "code",
   "execution_count": 7,
   "id": "bc945944",
   "metadata": {},
   "outputs": [
    {
     "name": "stdout",
     "output_type": "stream",
     "text": [
      "<class 'pandas.core.frame.DataFrame'>\n",
      "RangeIndex: 444 entries, 0 to 443\n",
      "Data columns (total 9 columns):\n",
      " #   Column     Non-Null Count  Dtype  \n",
      "---  ------     --------------  -----  \n",
      " 0   Age        444 non-null    int64  \n",
      " 1   Gender     444 non-null    object \n",
      " 2   Engineer   444 non-null    object \n",
      " 3   MBA        444 non-null    object \n",
      " 4   Work Exp   444 non-null    int64  \n",
      " 5   Salary     444 non-null    float64\n",
      " 6   Distance   444 non-null    float64\n",
      " 7   license    444 non-null    object \n",
      " 8   Transport  444 non-null    object \n",
      "dtypes: float64(2), int64(2), object(5)\n",
      "memory usage: 31.3+ KB\n"
     ]
    }
   ],
   "source": [
    "cars.info()"
   ]
  },
  {
   "cell_type": "code",
   "execution_count": 8,
   "id": "201036d8",
   "metadata": {},
   "outputs": [
    {
     "data": {
      "text/html": [
       "<div>\n",
       "<style scoped>\n",
       "    .dataframe tbody tr th:only-of-type {\n",
       "        vertical-align: middle;\n",
       "    }\n",
       "\n",
       "    .dataframe tbody tr th {\n",
       "        vertical-align: top;\n",
       "    }\n",
       "\n",
       "    .dataframe thead th {\n",
       "        text-align: right;\n",
       "    }\n",
       "</style>\n",
       "<table border=\"1\" class=\"dataframe\">\n",
       "  <thead>\n",
       "    <tr style=\"text-align: right;\">\n",
       "      <th></th>\n",
       "      <th>count</th>\n",
       "      <th>mean</th>\n",
       "      <th>std</th>\n",
       "      <th>min</th>\n",
       "      <th>25%</th>\n",
       "      <th>50%</th>\n",
       "      <th>75%</th>\n",
       "      <th>max</th>\n",
       "    </tr>\n",
       "  </thead>\n",
       "  <tbody>\n",
       "    <tr>\n",
       "      <th>Age</th>\n",
       "      <td>444.0</td>\n",
       "      <td>27.747748</td>\n",
       "      <td>4.416710</td>\n",
       "      <td>18.0</td>\n",
       "      <td>25.0</td>\n",
       "      <td>27.0</td>\n",
       "      <td>30.000</td>\n",
       "      <td>43.0</td>\n",
       "    </tr>\n",
       "    <tr>\n",
       "      <th>Work Exp</th>\n",
       "      <td>444.0</td>\n",
       "      <td>6.299550</td>\n",
       "      <td>5.112098</td>\n",
       "      <td>0.0</td>\n",
       "      <td>3.0</td>\n",
       "      <td>5.0</td>\n",
       "      <td>8.000</td>\n",
       "      <td>24.0</td>\n",
       "    </tr>\n",
       "    <tr>\n",
       "      <th>Salary</th>\n",
       "      <td>444.0</td>\n",
       "      <td>16.238739</td>\n",
       "      <td>10.453851</td>\n",
       "      <td>6.5</td>\n",
       "      <td>9.8</td>\n",
       "      <td>13.6</td>\n",
       "      <td>15.725</td>\n",
       "      <td>57.0</td>\n",
       "    </tr>\n",
       "    <tr>\n",
       "      <th>Distance</th>\n",
       "      <td>444.0</td>\n",
       "      <td>11.323198</td>\n",
       "      <td>3.606149</td>\n",
       "      <td>3.2</td>\n",
       "      <td>8.8</td>\n",
       "      <td>11.0</td>\n",
       "      <td>13.425</td>\n",
       "      <td>23.4</td>\n",
       "    </tr>\n",
       "  </tbody>\n",
       "</table>\n",
       "</div>"
      ],
      "text/plain": [
       "          count       mean        std   min   25%   50%     75%   max\n",
       "Age       444.0  27.747748   4.416710  18.0  25.0  27.0  30.000  43.0\n",
       "Work Exp  444.0   6.299550   5.112098   0.0   3.0   5.0   8.000  24.0\n",
       "Salary    444.0  16.238739  10.453851   6.5   9.8  13.6  15.725  57.0\n",
       "Distance  444.0  11.323198   3.606149   3.2   8.8  11.0  13.425  23.4"
      ]
     },
     "execution_count": 8,
     "metadata": {},
     "output_type": "execute_result"
    }
   ],
   "source": [
    "cars.describe().T"
   ]
  },
  {
   "cell_type": "code",
   "execution_count": 14,
   "id": "6ea1c323",
   "metadata": {},
   "outputs": [
    {
     "data": {
      "text/plain": [
       "Age          0\n",
       "Gender       0\n",
       "Engineer     0\n",
       "MBA          0\n",
       "Work Exp     0\n",
       "Salary       0\n",
       "Distance     0\n",
       "license      0\n",
       "Transport    0\n",
       "dtype: int64"
      ]
     },
     "execution_count": 14,
     "metadata": {},
     "output_type": "execute_result"
    }
   ],
   "source": [
    "cars.isnull().sum()"
   ]
  },
  {
   "cell_type": "markdown",
   "id": "83fba9bb",
   "metadata": {},
   "source": [
    "### Univariate Analysis"
   ]
  },
  {
   "cell_type": "code",
   "execution_count": 15,
   "id": "c135ba0e",
   "metadata": {},
   "outputs": [
    {
     "data": {
      "image/png": "[encoded data removed]",
      "text/plain": [
       "<Figure size 432x288 with 1 Axes>"
      ]
     },
     "metadata": {
      "needs_background": "light"
     },
     "output_type": "display_data"
    }
   ],
   "source": [
    "sns.histplot(data= cars, x= 'Age', binwidth= 5);"
   ]
  },
  {
   "cell_type": "markdown",
   "id": "efd84649",
   "metadata": {},
   "source": [
    "Most of the employess are in the age between 22-33"
   ]
  },
  {
   "cell_type": "code",
   "execution_count": 251,
   "id": "c2eac60d",
   "metadata": {
    "scrolled": true
   },
   "outputs": [
    {
     "name": "stdout",
     "output_type": "stream",
     "text": [
      "Male      316\n",
      "Female    128\n",
      "Name: Gender, dtype: int64\n"
     ]
    },
    {
     "data": {
      "image/png": "[encoded data removed]",
      "text/plain": [
       "<Figure size 432x288 with 1 Axes>"
      ]
     },
     "metadata": {
      "needs_background": "light"
     },
     "output_type": "display_data"
    }
   ],
   "source": [
    "print(cars['Gender'].value_counts())\n",
    "sns.countplot(data = cars, x= 'Gender');"
   ]
  },
  {
   "cell_type": "markdown",
   "id": "535045ae",
   "metadata": {},
   "source": [
    "No.of male employees is very high."
   ]
  },
  {
   "cell_type": "code",
   "execution_count": 256,
   "id": "07d5677e",
   "metadata": {},
   "outputs": [
    {
     "name": "stdout",
     "output_type": "stream",
     "text": [
      "1    335\n",
      "0    109\n",
      "Name: Engineer, dtype: int64\n"
     ]
    },
    {
     "data": {
      "image/png": "[encoded data removed]",
      "text/plain": [
       "<Figure size 432x288 with 1 Axes>"
      ]
     },
     "metadata": {
      "needs_background": "light"
     },
     "output_type": "display_data"
    }
   ],
   "source": [
    "print(cars['Engineer'].value_counts())\n",
    "sns.countplot(data = cars, x= 'Engineer');"
   ]
  },
  {
   "cell_type": "code",
   "execution_count": 257,
   "id": "a3c133d5",
   "metadata": {},
   "outputs": [
    {
     "name": "stdout",
     "output_type": "stream",
     "text": [
      "0    332\n",
      "1    112\n",
      "Name: MBA, dtype: int64\n"
     ]
    },
    {
     "data": {
      "image/png": "[encoded data removed]",
      "text/plain": [
       "<Figure size 432x288 with 1 Axes>"
      ]
     },
     "metadata": {
      "needs_background": "light"
     },
     "output_type": "display_data"
    }
   ],
   "source": [
    "print(cars['MBA'].value_counts())\n",
    "sns.countplot(data = cars, x= 'MBA');"
   ]
  },
  {
   "cell_type": "markdown",
   "id": "9edc616f",
   "metadata": {},
   "source": [
    "From the above two graphs most of the employess are engineer and least number of employees have done MBA."
   ]
  },
  {
   "cell_type": "code",
   "execution_count": 258,
   "id": "f4963cd7",
   "metadata": {},
   "outputs": [
    {
     "name": "stdout",
     "output_type": "stream",
     "text": [
      "0    340\n",
      "1    104\n",
      "Name: license, dtype: int64\n"
     ]
    },
    {
     "data": {
      "image/png": "[encoded data removed]",
      "text/plain": [
       "<Figure size 432x288 with 1 Axes>"
      ]
     },
     "metadata": {
      "needs_background": "light"
     },
     "output_type": "display_data"
    }
   ],
   "source": [
    "print(cars['license'].value_counts())\n",
    "sns.countplot(data = cars, x= 'license');"
   ]
  },
  {
   "cell_type": "markdown",
   "id": "35da4795",
   "metadata": {},
   "source": [
    "Most of the employees does not have license."
   ]
  },
  {
   "cell_type": "code",
   "execution_count": 259,
   "id": "7dc9204e",
   "metadata": {},
   "outputs": [
    {
     "name": "stdout",
     "output_type": "stream",
     "text": [
      "Public Transport     300\n",
      "Private Transport    144\n",
      "Name: Transport, dtype: int64\n"
     ]
    },
    {
     "data": {
      "image/png": "[encoded data removed]",
      "text/plain": [
       "<Figure size 432x288 with 1 Axes>"
      ]
     },
     "metadata": {
      "needs_background": "light"
     },
     "output_type": "display_data"
    }
   ],
   "source": [
    "print(cars['Transport'].value_counts())\n",
    "sns.countplot(data = cars, x= 'Transport');"
   ]
  },
  {
   "cell_type": "markdown",
   "id": "c49eb252",
   "metadata": {},
   "source": [
    "Public transport is the most used compared to private transport."
   ]
  },
  {
   "cell_type": "code",
   "execution_count": 21,
   "id": "57ecfcb0",
   "metadata": {},
   "outputs": [
    {
     "data": {
      "image/png": "[encoded data removed]",
      "text/plain": [
       "<Figure size 432x288 with 1 Axes>"
      ]
     },
     "metadata": {
      "needs_background": "light"
     },
     "output_type": "display_data"
    }
   ],
   "source": [
    "sns.histplot(data= cars, x= 'Work Exp', binwidth= 5);"
   ]
  },
  {
   "cell_type": "markdown",
   "id": "a1cff162",
   "metadata": {},
   "source": [
    "More than 175 employees have a work experience between 0-5 years and more than 150 employees have work experience between 5-10. years"
   ]
  },
  {
   "cell_type": "code",
   "execution_count": 22,
   "id": "81463997",
   "metadata": {},
   "outputs": [
    {
     "data": {
      "image/png": "[encoded data removed]",
      "text/plain": [
       "<Figure size 432x288 with 1 Axes>"
      ]
     },
     "metadata": {
      "needs_background": "light"
     },
     "output_type": "display_data"
    }
   ],
   "source": [
    "sns.histplot(data= cars, x= 'Salary', binwidth= 5);"
   ]
  },
  {
   "cell_type": "markdown",
   "id": "e2ccc22e",
   "metadata": {},
   "source": [
    "10-15 lakh ctc is offered for most number of employees."
   ]
  },
  {
   "cell_type": "code",
   "execution_count": 23,
   "id": "95a5501f",
   "metadata": {},
   "outputs": [
    {
     "data": {
      "image/png": "[encoded data removed]",
      "text/plain": [
       "<Figure size 432x288 with 1 Axes>"
      ]
     },
     "metadata": {
      "needs_background": "light"
     },
     "output_type": "display_data"
    }
   ],
   "source": [
    "sns.histplot(data= cars, x= 'Distance', binwidth= 5);"
   ]
  },
  {
   "cell_type": "markdown",
   "id": "d5c783d3",
   "metadata": {},
   "source": [
    "More than 200 employees travels between 9-12 kms each day."
   ]
  },
  {
   "cell_type": "markdown",
   "id": "7e36db29",
   "metadata": {},
   "source": [
    "#### Bivariate Analysis"
   ]
  },
  {
   "cell_type": "code",
   "execution_count": 24,
   "id": "4014d474",
   "metadata": {},
   "outputs": [
    {
     "name": "stdout",
     "output_type": "stream",
     "text": [
      "<class 'pandas.core.frame.DataFrame'>\n",
      "RangeIndex: 444 entries, 0 to 443\n",
      "Data columns (total 9 columns):\n",
      " #   Column     Non-Null Count  Dtype  \n",
      "---  ------     --------------  -----  \n",
      " 0   Age        444 non-null    int64  \n",
      " 1   Gender     444 non-null    object \n",
      " 2   Engineer   444 non-null    object \n",
      " 3   MBA        444 non-null    object \n",
      " 4   Work Exp   444 non-null    int64  \n",
      " 5   Salary     444 non-null    float64\n",
      " 6   Distance   444 non-null    float64\n",
      " 7   license    444 non-null    object \n",
      " 8   Transport  444 non-null    object \n",
      "dtypes: float64(2), int64(2), object(5)\n",
      "memory usage: 31.3+ KB\n"
     ]
    }
   ],
   "source": [
    "cars.info()"
   ]
  },
  {
   "cell_type": "code",
   "execution_count": 25,
   "id": "8aafbf05",
   "metadata": {},
   "outputs": [
    {
     "data": {
      "image/png": "[encoded data removed]",
      "text/plain": [
       "<Figure size 720x504 with 1 Axes>"
      ]
     },
     "metadata": {
      "needs_background": "light"
     },
     "output_type": "display_data"
    }
   ],
   "source": [
    "plt.figure(figsize=(10,7))\n",
    "sns.barplot(data= cars, x = 'Gender', y = 'Work Exp', ci= False);"
   ]
  },
  {
   "cell_type": "code",
   "execution_count": 26,
   "id": "5d8f3ed2",
   "metadata": {},
   "outputs": [
    {
     "data": {
      "image/png": "[encoded data removed]",
      "text/plain": [
       "<Figure size 720x504 with 1 Axes>"
      ]
     },
     "metadata": {
      "needs_background": "light"
     },
     "output_type": "display_data"
    }
   ],
   "source": [
    "plt.figure(figsize=(10,7))\n",
    "sns.barplot(data= cars, x = 'Gender', y = 'Salary', ci= False);"
   ]
  },
  {
   "cell_type": "code",
   "execution_count": 27,
   "id": "33fa01ac",
   "metadata": {},
   "outputs": [
    {
     "data": {
      "image/png": "[encoded data removed]",
      "text/plain": [
       "<Figure size 720x504 with 1 Axes>"
      ]
     },
     "metadata": {
      "needs_background": "light"
     },
     "output_type": "display_data"
    }
   ],
   "source": [
    "plt.figure(figsize=(10,7))\n",
    "sns.barplot(data= cars, x = 'Gender', y = 'Distance', ci= False);"
   ]
  },
  {
   "cell_type": "code",
   "execution_count": 28,
   "id": "8a302ac3",
   "metadata": {},
   "outputs": [
    {
     "data": {
      "image/png": "[encoded data removed]",
      "text/plain": [
       "<Figure size 720x504 with 1 Axes>"
      ]
     },
     "metadata": {
      "needs_background": "light"
     },
     "output_type": "display_data"
    }
   ],
   "source": [
    "plt.figure(figsize=(10,7))\n",
    "sns.barplot(data= cars, x = 'Engineer', y = 'Work Exp', ci= False);"
   ]
  },
  {
   "cell_type": "code",
   "execution_count": 29,
   "id": "df40530d",
   "metadata": {},
   "outputs": [
    {
     "data": {
      "image/png": "[encoded data removed]",
      "text/plain": [
       "<Figure size 720x504 with 1 Axes>"
      ]
     },
     "metadata": {
      "needs_background": "light"
     },
     "output_type": "display_data"
    }
   ],
   "source": [
    "plt.figure(figsize=(10,7))\n",
    "sns.barplot(data= cars, x = 'Engineer', y = 'Salary', ci= False);"
   ]
  },
  {
   "cell_type": "code",
   "execution_count": 30,
   "id": "ff00d237",
   "metadata": {},
   "outputs": [
    {
     "data": {
      "image/png": "[encoded data removed]",
      "text/plain": [
       "<Figure size 720x504 with 1 Axes>"
      ]
     },
     "metadata": {
      "needs_background": "light"
     },
     "output_type": "display_data"
    }
   ],
   "source": [
    "plt.figure(figsize=(10,7))\n",
    "sns.barplot(data= cars, x = 'Engineer', y = 'Distance', ci= False);"
   ]
  },
  {
   "cell_type": "code",
   "execution_count": 31,
   "id": "4e706c12",
   "metadata": {},
   "outputs": [
    {
     "data": {
      "image/png": "[encoded data removed]",
      "text/plain": [
       "<Figure size 720x504 with 1 Axes>"
      ]
     },
     "metadata": {
      "needs_background": "light"
     },
     "output_type": "display_data"
    }
   ],
   "source": [
    "plt.figure(figsize=(10,7))\n",
    "sns.barplot(data= cars, x = 'MBA', y = 'Work Exp', ci= False);"
   ]
  },
  {
   "cell_type": "code",
   "execution_count": 262,
   "id": "a589d2dc",
   "metadata": {},
   "outputs": [
    {
     "data": {
      "image/png": "[encoded data removed]",
      "text/plain": [
       "<Figure size 720x504 with 1 Axes>"
      ]
     },
     "metadata": {
      "needs_background": "light"
     },
     "output_type": "display_data"
    }
   ],
   "source": [
    "plt.figure(figsize=(10,7))\n",
    "sns.barplot(data= cars, x = 'MBA', y='Salary', ci= False);"
   ]
  },
  {
   "cell_type": "code",
   "execution_count": 33,
   "id": "237d14a5",
   "metadata": {},
   "outputs": [
    {
     "data": {
      "image/png": "[encoded data removed]",
      "text/plain": [
       "<Figure size 720x504 with 1 Axes>"
      ]
     },
     "metadata": {
      "needs_background": "light"
     },
     "output_type": "display_data"
    }
   ],
   "source": [
    "plt.figure(figsize=(10,7))\n",
    "sns.barplot(data= cars, x = 'MBA', y = 'Distance', ci= False);"
   ]
  },
  {
   "cell_type": "markdown",
   "id": "56c9dd84",
   "metadata": {},
   "source": [
    "#### Multivariate Analysis"
   ]
  },
  {
   "cell_type": "code",
   "execution_count": 271,
   "id": "6d489b2f",
   "metadata": {},
   "outputs": [
    {
     "data": {
      "image/png": "[encoded data removed]",
      "text/plain": [
       "<Figure size 720x504 with 1 Axes>"
      ]
     },
     "metadata": {
      "needs_background": "light"
     },
     "output_type": "display_data"
    }
   ],
   "source": [
    "plt.figure(figsize=(10,7))\n",
    "sns.barplot(data= cars, x = 'MBA', y = 'Salary', hue='Engineer', ci= False);"
   ]
  },
  {
   "cell_type": "code",
   "execution_count": 265,
   "id": "7f3159fa",
   "metadata": {},
   "outputs": [
    {
     "data": {
      "image/png": "[encoded data removed]",
      "text/plain": [
       "<Figure size 720x504 with 1 Axes>"
      ]
     },
     "metadata": {
      "needs_background": "light"
     },
     "output_type": "display_data"
    }
   ],
   "source": [
    "plt.figure(figsize=(10,7))\n",
    "sns.barplot(data= cars, x = 'MBA', y = 'Work Exp', hue='Engineer', ci= False);"
   ]
  },
  {
   "cell_type": "code",
   "execution_count": 266,
   "id": "aed4f411",
   "metadata": {},
   "outputs": [
    {
     "data": {
      "image/png": "[encoded data removed]",
      "text/plain": [
       "<Figure size 720x504 with 1 Axes>"
      ]
     },
     "metadata": {
      "needs_background": "light"
     },
     "output_type": "display_data"
    }
   ],
   "source": [
    "plt.figure(figsize=(10,7))\n",
    "sns.barplot(data= cars, x = 'MBA', y = 'Salary', hue='Gender', ci= False);"
   ]
  },
  {
   "cell_type": "code",
   "execution_count": 268,
   "id": "6682a5c7",
   "metadata": {},
   "outputs": [
    {
     "data": {
      "image/png": "[encoded data removed]",
      "text/plain": [
       "<Figure size 720x504 with 1 Axes>"
      ]
     },
     "metadata": {
      "needs_background": "light"
     },
     "output_type": "display_data"
    }
   ],
   "source": [
    "plt.figure(figsize=(10,7))\n",
    "sns.barplot(data= cars, x = 'MBA', y = 'Work Exp', hue='Gender', ci= False);"
   ]
  },
  {
   "cell_type": "code",
   "execution_count": 269,
   "id": "60ce7ddb",
   "metadata": {},
   "outputs": [
    {
     "data": {
      "image/png": "[encoded data removed]",
      "text/plain": [
       "<Figure size 720x504 with 1 Axes>"
      ]
     },
     "metadata": {
      "needs_background": "light"
     },
     "output_type": "display_data"
    }
   ],
   "source": [
    "plt.figure(figsize=(10,7))\n",
    "sns.barplot(data= cars, x = 'Engineer', y = 'Work Exp', hue='Gender', ci= False);"
   ]
  },
  {
   "cell_type": "code",
   "execution_count": 270,
   "id": "9658fccc",
   "metadata": {},
   "outputs": [
    {
     "data": {
      "image/png": "[encoded data removed]",
      "text/plain": [
       "<Figure size 720x504 with 1 Axes>"
      ]
     },
     "metadata": {
      "needs_background": "light"
     },
     "output_type": "display_data"
    }
   ],
   "source": [
    "plt.figure(figsize=(10,7))\n",
    "sns.barplot(data= cars, x = 'Engineer', y = 'Salary', hue='Gender', ci= False);"
   ]
  },
  {
   "cell_type": "code",
   "execution_count": 34,
   "id": "49e88e9d",
   "metadata": {},
   "outputs": [
    {
     "data": {
      "image/png": "[encoded data removed]",
      "text/plain": [
       "<Figure size 720x504 with 2 Axes>"
      ]
     },
     "metadata": {
      "needs_background": "light"
     },
     "output_type": "display_data"
    }
   ],
   "source": [
    "corr = cars.corr()\n",
    "\n",
    "plt.figure(figsize= (10,7))\n",
    "sns.heatmap(corr, annot= True);"
   ]
  },
  {
   "cell_type": "code",
   "execution_count": 35,
   "id": "008720ed",
   "metadata": {},
   "outputs": [
    {
     "data": {
      "image/png": "[encoded data removed]",
      "text/plain": [
       "<Figure size 432x288 with 1 Axes>"
      ]
     },
     "metadata": {
      "needs_background": "light"
     },
     "output_type": "display_data"
    },
    {
     "data": {
      "image/png": "[encoded data removed]",
      "text/plain": [
       "<Figure size 432x288 with 1 Axes>"
      ]
     },
     "metadata": {
      "needs_background": "light"
     },
     "output_type": "display_data"
    },
    {
     "data": {
      "image/png": "[encoded data removed]",
      "text/plain": [
       "<Figure size 432x288 with 1 Axes>"
      ]
     },
     "metadata": {
      "needs_background": "light"
     },
     "output_type": "display_data"
    },
    {
     "data": {
      "image/png": "[encoded data removed]",
      "text/plain": [
       "<Figure size 432x288 with 1 Axes>"
      ]
     },
     "metadata": {
      "needs_background": "light"
     },
     "output_type": "display_data"
    }
   ],
   "source": [
    "for col in cars.columns:\n",
    "    if cars[col].dtype == 'int64' or cars[col].dtype == 'float64':\n",
    "        plt.subplots(1,1)\n",
    "        sns.boxplot(data= cars, x= cars[col]);\n",
    "\n"
   ]
  },
  {
   "cell_type": "code",
   "execution_count": 36,
   "id": "387b32b8",
   "metadata": {},
   "outputs": [],
   "source": [
    "for col in cars.columns:\n",
    "    if cars[col].dtype == 'int64' or cars[col].dtype == 'float64':\n",
    "            Q1 = cars[col].quantile(0.25)\n",
    "            Q3 = cars[col].quantile(0.75)\n",
    "            IQR = Q3-Q1\n",
    "            lr_bound = Q1 - (1.5*IQR)\n",
    "            ur_bound = Q3 +  (1.5*IQR)\n",
    "            cars[col] = np.where(cars[col] > ur_bound, ur_bound, \n",
    "                                np.where(cars[col] < lr_bound, lr_bound, cars[col]))"
   ]
  },
  {
   "cell_type": "code",
   "execution_count": 37,
   "id": "7ae2a7e6",
   "metadata": {},
   "outputs": [
    {
     "data": {
      "image/png": "[encoded data removed]",
      "text/plain": [
       "<Figure size 432x288 with 1 Axes>"
      ]
     },
     "metadata": {
      "needs_background": "light"
     },
     "output_type": "display_data"
    },
    {
     "data": {
      "image/png": "[encoded data removed]",
      "text/plain": [
       "<Figure size 432x288 with 1 Axes>"
      ]
     },
     "metadata": {
      "needs_background": "light"
     },
     "output_type": "display_data"
    },
    {
     "data": {
      "image/png": "[encoded data removed]",
      "text/plain": [
       "<Figure size 432x288 with 1 Axes>"
      ]
     },
     "metadata": {
      "needs_background": "light"
     },
     "output_type": "display_data"
    },
    {
     "data": {
      "image/png": "[encoded data removed]",
      "text/plain": [
       "<Figure size 432x288 with 1 Axes>"
      ]
     },
     "metadata": {
      "needs_background": "light"
     },
     "output_type": "display_data"
    }
   ],
   "source": [
    "for col in cars.columns:\n",
    "    if cars[col].dtype == 'int64' or cars[col].dtype == 'float64':\n",
    "        plt.subplots(1,1)\n",
    "        sns.boxplot(data= cars, x= cars[col]);\n"
   ]
  },
  {
   "cell_type": "markdown",
   "id": "93954770",
   "metadata": {},
   "source": [
    "## 2. Split the data into train and test in the ratio 70:30. Is scaling necessary or not?"
   ]
  },
  {
   "cell_type": "code",
   "execution_count": 38,
   "id": "3b20b4db",
   "metadata": {},
   "outputs": [],
   "source": [
    "cars['Gender'] = cars['Gender'].astype('category')\n",
    "cars['Transport'] = cars['Transport'].astype('category')"
   ]
  },
  {
   "cell_type": "code",
   "execution_count": 39,
   "id": "5896ad1b",
   "metadata": {},
   "outputs": [],
   "source": [
    "cars['Gender'] = cars['Gender'].cat.codes\n",
    "cars['Transport'] = cars['Transport'].cat.codes"
   ]
  },
  {
   "cell_type": "code",
   "execution_count": 40,
   "id": "6692be66",
   "metadata": {},
   "outputs": [
    {
     "data": {
      "text/html": [
       "<div>\n",
       "<style scoped>\n",
       "    .dataframe tbody tr th:only-of-type {\n",
       "        vertical-align: middle;\n",
       "    }\n",
       "\n",
       "    .dataframe tbody tr th {\n",
       "        vertical-align: top;\n",
       "    }\n",
       "\n",
       "    .dataframe thead th {\n",
       "        text-align: right;\n",
       "    }\n",
       "</style>\n",
       "<table border=\"1\" class=\"dataframe\">\n",
       "  <thead>\n",
       "    <tr style=\"text-align: right;\">\n",
       "      <th></th>\n",
       "      <th>Age</th>\n",
       "      <th>Gender</th>\n",
       "      <th>Engineer</th>\n",
       "      <th>MBA</th>\n",
       "      <th>Work Exp</th>\n",
       "      <th>Salary</th>\n",
       "      <th>Distance</th>\n",
       "      <th>license</th>\n",
       "      <th>Transport</th>\n",
       "    </tr>\n",
       "  </thead>\n",
       "  <tbody>\n",
       "    <tr>\n",
       "      <th>0</th>\n",
       "      <td>28.0</td>\n",
       "      <td>1</td>\n",
       "      <td>0</td>\n",
       "      <td>0</td>\n",
       "      <td>4.0</td>\n",
       "      <td>14.3</td>\n",
       "      <td>3.2</td>\n",
       "      <td>0</td>\n",
       "      <td>1</td>\n",
       "    </tr>\n",
       "    <tr>\n",
       "      <th>1</th>\n",
       "      <td>23.0</td>\n",
       "      <td>0</td>\n",
       "      <td>1</td>\n",
       "      <td>0</td>\n",
       "      <td>4.0</td>\n",
       "      <td>8.3</td>\n",
       "      <td>3.3</td>\n",
       "      <td>0</td>\n",
       "      <td>1</td>\n",
       "    </tr>\n",
       "    <tr>\n",
       "      <th>2</th>\n",
       "      <td>29.0</td>\n",
       "      <td>1</td>\n",
       "      <td>1</td>\n",
       "      <td>0</td>\n",
       "      <td>7.0</td>\n",
       "      <td>13.4</td>\n",
       "      <td>4.1</td>\n",
       "      <td>0</td>\n",
       "      <td>1</td>\n",
       "    </tr>\n",
       "    <tr>\n",
       "      <th>3</th>\n",
       "      <td>28.0</td>\n",
       "      <td>0</td>\n",
       "      <td>1</td>\n",
       "      <td>1</td>\n",
       "      <td>5.0</td>\n",
       "      <td>13.4</td>\n",
       "      <td>4.5</td>\n",
       "      <td>0</td>\n",
       "      <td>1</td>\n",
       "    </tr>\n",
       "    <tr>\n",
       "      <th>4</th>\n",
       "      <td>27.0</td>\n",
       "      <td>1</td>\n",
       "      <td>1</td>\n",
       "      <td>0</td>\n",
       "      <td>4.0</td>\n",
       "      <td>13.4</td>\n",
       "      <td>4.6</td>\n",
       "      <td>0</td>\n",
       "      <td>1</td>\n",
       "    </tr>\n",
       "  </tbody>\n",
       "</table>\n",
       "</div>"
      ],
      "text/plain": [
       "    Age  Gender Engineer MBA  Work Exp  Salary  Distance license  Transport\n",
       "0  28.0       1        0   0       4.0    14.3       3.2       0          1\n",
       "1  23.0       0        1   0       4.0     8.3       3.3       0          1\n",
       "2  29.0       1        1   0       7.0    13.4       4.1       0          1\n",
       "3  28.0       0        1   1       5.0    13.4       4.5       0          1\n",
       "4  27.0       1        1   0       4.0    13.4       4.6       0          1"
      ]
     },
     "execution_count": 40,
     "metadata": {},
     "output_type": "execute_result"
    }
   ],
   "source": [
    "cars.head()"
   ]
  },
  {
   "cell_type": "code",
   "execution_count": 41,
   "id": "eeca0b81",
   "metadata": {},
   "outputs": [],
   "source": [
    "x = cars.drop('Transport', axis=1)\n",
    "y= cars.pop('Transport')"
   ]
  },
  {
   "cell_type": "code",
   "execution_count": 42,
   "id": "e72b33ed",
   "metadata": {},
   "outputs": [],
   "source": [
    "from sklearn.preprocessing import StandardScaler\n",
    "\n",
    "sc = StandardScaler()\n",
    "x = sc.fit_transform(x)"
   ]
  },
  {
   "cell_type": "code",
   "execution_count": 43,
   "id": "0916f8b2",
   "metadata": {},
   "outputs": [],
   "source": [
    "from sklearn.model_selection import train_test_split\n",
    "\n",
    "x_train, x_test, y_train, y_test = train_test_split(x, y, test_size=0.3, random_state=1)"
   ]
  },
  {
   "cell_type": "markdown",
   "id": "22999eb8",
   "metadata": {},
   "source": [
    "## 3. Build the following models on the 70% training data and check the performance of these models on the Training as well as the 30% Test data using the various inferences from the Confusion Matrix and plotting a AUC-ROC curve along with the AUC values. Tune the models wherever required for optimum performance:\n",
    "\n",
    "### a. Logistic Regression Model"
   ]
  },
  {
   "cell_type": "code",
   "execution_count": 44,
   "id": "540a0780",
   "metadata": {},
   "outputs": [],
   "source": [
    "from sklearn.linear_model import LogisticRegression\n",
    "\n",
    "logr = LogisticRegression()"
   ]
  },
  {
   "cell_type": "code",
   "execution_count": 45,
   "id": "2911e66c",
   "metadata": {},
   "outputs": [
    {
     "data": {
      "text/plain": [
       "LogisticRegression()"
      ]
     },
     "execution_count": 45,
     "metadata": {},
     "output_type": "execute_result"
    }
   ],
   "source": [
    "logr.fit(x_train, y_train)"
   ]
  },
  {
   "cell_type": "markdown",
   "id": "3bcf4de9",
   "metadata": {},
   "source": [
    "##### Performance of logistic regression model on Train  data"
   ]
  },
  {
   "cell_type": "code",
   "execution_count": 245,
   "id": "09fa3656",
   "metadata": {},
   "outputs": [],
   "source": [
    "y_pred_logr_train = logr.predict(x_train)"
   ]
  },
  {
   "cell_type": "code",
   "execution_count": 48,
   "id": "662f2b67",
   "metadata": {},
   "outputs": [],
   "source": [
    "from sklearn.metrics import confusion_matrix, classification_report, accuracy_score, roc_auc_score, roc_curve"
   ]
  },
  {
   "cell_type": "code",
   "execution_count": 244,
   "id": "6ad7c16a",
   "metadata": {},
   "outputs": [
    {
     "name": "stdout",
     "output_type": "stream",
     "text": [
      "The accuracy score of the model in train data : 0.8032258064516129\n",
      "\n",
      "\n",
      "              precision    recall  f1-score   support\n",
      "\n",
      "           0       0.77      0.57      0.66       102\n",
      "           1       0.81      0.92      0.86       208\n",
      "\n",
      "    accuracy                           0.80       310\n",
      "   macro avg       0.79      0.74      0.76       310\n",
      "weighted avg       0.80      0.80      0.79       310\n",
      "\n"
     ]
    },
    {
     "data": {
      "image/png": "[encoded data removed]",
      "text/plain": [
       "<Figure size 432x288 with 1 Axes>"
      ]
     },
     "metadata": {
      "needs_background": "light"
     },
     "output_type": "display_data"
    }
   ],
   "source": [
    "print(\"The accuracy score of the model in train data :\", accuracy_score(y_train, y_pred_logr_train))\n",
    "print('\\n')\n",
    "print(classification_report(y_train, y_pred_logr_train))\n",
    "\n",
    "cm_logr_train = confusion_matrix(y_train, y_pred_logr)\n",
    "sns.heatmap(cm_logr_train,annot=True,fmt='d',cbar=False);"
   ]
  },
  {
   "cell_type": "code",
   "execution_count": 70,
   "id": "d0238962",
   "metadata": {},
   "outputs": [
    {
     "name": "stdout",
     "output_type": "stream",
     "text": [
      "AUC Score: 0.833\n"
     ]
    },
    {
     "data": {
      "image/png": "[encoded data removed]",
      "text/plain": [
       "<Figure size 432x288 with 1 Axes>"
      ]
     },
     "metadata": {
      "needs_background": "light"
     },
     "output_type": "display_data"
    }
   ],
   "source": [
    "# auc_roc curve\n",
    "\n",
    "probs_logr_train = logr.predict_proba(x_train)\n",
    "\n",
    "probs_logr_train = probs_logr_train[:, 1]\n",
    "\n",
    "auc_score_train = roc_auc_score(y_train, probs_logr_train)\n",
    "print('AUC Score: %.3f' % auc_score_train)\n",
    "\n",
    "fpr, tpr, threshold = roc_curve(y_train, probs_logr_train)\n",
    "plt.plot([0,1], [0,1], linestyle = '--')\n",
    "\n",
    "plt.plot(fpr, tpr, marker='.');"
   ]
  },
  {
   "cell_type": "markdown",
   "id": "41523e53",
   "metadata": {},
   "source": [
    "#### Performance of logistic regression model on Test data"
   ]
  },
  {
   "cell_type": "code",
   "execution_count": 71,
   "id": "a957b536",
   "metadata": {},
   "outputs": [
    {
     "data": {
      "text/plain": [
       "array([0, 1, 1, 1, 0, 0, 0, 0, 0, 1, 1, 0, 1, 1, 1, 1, 0, 0, 1, 0, 1, 0,\n",
       "       1, 1, 1, 1, 0, 1, 1, 1, 1, 1, 0, 1, 1, 1, 1, 1, 0, 1, 0, 1, 0, 1,\n",
       "       0, 0, 1, 1, 1, 1, 1, 1, 1, 1, 1, 1, 1, 1, 0, 1, 1, 1, 1, 1, 1, 0,\n",
       "       1, 0, 1, 1, 1, 0, 1, 1, 1, 1, 0, 1, 0, 1, 0, 1, 1, 1, 1, 1, 1, 1,\n",
       "       0, 0, 1, 1, 1, 0, 1, 1, 1, 1, 1, 1, 1, 0, 0, 1, 1, 1, 1, 1, 0, 0,\n",
       "       0, 1, 1, 1, 0, 1, 1, 1, 1, 1, 0, 1, 1, 1, 0, 1, 1, 1, 1, 1, 0, 0,\n",
       "       1, 1], dtype=int8)"
      ]
     },
     "execution_count": 71,
     "metadata": {},
     "output_type": "execute_result"
    }
   ],
   "source": [
    "y_pred_logr_test = logr.predict(x_test)\n",
    "y_pred_logr_test"
   ]
  },
  {
   "cell_type": "code",
   "execution_count": 243,
   "id": "6e86c8ff",
   "metadata": {},
   "outputs": [
    {
     "name": "stdout",
     "output_type": "stream",
     "text": [
      "The accuracy score of the model in test data : 0.8059701492537313\n",
      "\n",
      "\n",
      "Classification report: \n",
      "               precision    recall  f1-score   support\n",
      "\n",
      "           0       0.71      0.64      0.67        42\n",
      "           1       0.84      0.88      0.86        92\n",
      "\n",
      "    accuracy                           0.81       134\n",
      "   macro avg       0.78      0.76      0.77       134\n",
      "weighted avg       0.80      0.81      0.80       134\n",
      "\n"
     ]
    },
    {
     "data": {
      "image/png": "[encoded data removed]",
      "text/plain": [
       "<Figure size 432x288 with 1 Axes>"
      ]
     },
     "metadata": {
      "needs_background": "light"
     },
     "output_type": "display_data"
    }
   ],
   "source": [
    "print(\"The accuracy score of the model in test data :\", accuracy_score(y_test, y_pred_logr_test))\n",
    "print('\\n')\n",
    "print('Classification report: \\n',classification_report(y_test, y_pred_logr_test))\n",
    "\n",
    "cm_logr_test = confusion_matrix(y_test, y_pred_logr_test)\n",
    "sns.heatmap(cm_logr_test,annot=True,fmt='d',cbar=False);"
   ]
  },
  {
   "cell_type": "code",
   "execution_count": 88,
   "id": "d3b90d42",
   "metadata": {},
   "outputs": [
    {
     "name": "stdout",
     "output_type": "stream",
     "text": [
      "AUC Score: 0.811\n"
     ]
    },
    {
     "data": {
      "image/png": "[encoded data removed]",
      "text/plain": [
       "<Figure size 432x288 with 1 Axes>"
      ]
     },
     "metadata": {
      "needs_background": "light"
     },
     "output_type": "display_data"
    }
   ],
   "source": [
    "probs_logr_test = logr.predict_proba(x_test)\n",
    "\n",
    "probs_logr_test = probs_logr_test[:, 1]\n",
    "\n",
    "auc_score_test = roc_auc_score(y_test, probs_logr_test)\n",
    "print('AUC Score: %.3f' % auc_score_test)\n",
    "fpr, tpr, threshold = roc_curve(y_test, probs_logr_test)\n",
    "plt.plot([0,1], [0,1], linestyle = '--')\n",
    "\n",
    "plt.plot(fpr, tpr, marker='.');"
   ]
  },
  {
   "cell_type": "markdown",
   "id": "4b7fb9e9",
   "metadata": {},
   "source": [
    "#### b. Linear Discriminant Analysis"
   ]
  },
  {
   "cell_type": "code",
   "execution_count": 78,
   "id": "c8ff3fdb",
   "metadata": {},
   "outputs": [],
   "source": [
    "from sklearn.discriminant_analysis import LinearDiscriminantAnalysis"
   ]
  },
  {
   "cell_type": "code",
   "execution_count": 92,
   "id": "0bf27ad4",
   "metadata": {},
   "outputs": [],
   "source": [
    "lda = LinearDiscriminantAnalysis(n_components=1)"
   ]
  },
  {
   "cell_type": "code",
   "execution_count": 242,
   "id": "dd393c09",
   "metadata": {},
   "outputs": [
    {
     "data": {
      "text/plain": [
       "LinearDiscriminantAnalysis(n_components=1)"
      ]
     },
     "execution_count": 242,
     "metadata": {},
     "output_type": "execute_result"
    }
   ],
   "source": [
    "lda.fit(x_train, y_train)"
   ]
  },
  {
   "cell_type": "markdown",
   "id": "7cba6bae",
   "metadata": {},
   "source": [
    "#### Performance of Linear Discriminant Analysis on Train data"
   ]
  },
  {
   "cell_type": "code",
   "execution_count": 94,
   "id": "88dda2a9",
   "metadata": {},
   "outputs": [],
   "source": [
    "y_pred_lda_train = lda.predict(x_train)"
   ]
  },
  {
   "cell_type": "code",
   "execution_count": 241,
   "id": "fd74d5c0",
   "metadata": {},
   "outputs": [
    {
     "name": "stdout",
     "output_type": "stream",
     "text": [
      "The accuracy score of the model in train data : 0.8129032258064516\n",
      "\n",
      "\n",
      "Classification report: \n",
      "               precision    recall  f1-score   support\n",
      "\n",
      "           0       0.78      0.60      0.68       102\n",
      "           1       0.82      0.92      0.87       208\n",
      "\n",
      "    accuracy                           0.81       310\n",
      "   macro avg       0.80      0.76      0.77       310\n",
      "weighted avg       0.81      0.81      0.81       310\n",
      "\n"
     ]
    },
    {
     "data": {
      "image/png": "[encoded data removed]",
      "text/plain": [
       "<Figure size 432x288 with 1 Axes>"
      ]
     },
     "metadata": {
      "needs_background": "light"
     },
     "output_type": "display_data"
    }
   ],
   "source": [
    "print(\"The accuracy score of the model in train data :\", accuracy_score(y_train, y_pred_lda_train))\n",
    "print('\\n')\n",
    "print('Classification report: \\n',classification_report(y_train, y_pred_lda_train))\n",
    "\n",
    "\n",
    "cm_lda_train = confusion_matrix(y_train, y_pred_lda_train)\n",
    "sns.heatmap(cm_lda_train,annot=True,fmt='d',cbar=False);"
   ]
  },
  {
   "cell_type": "code",
   "execution_count": 97,
   "id": "e2a3454f",
   "metadata": {},
   "outputs": [
    {
     "name": "stdout",
     "output_type": "stream",
     "text": [
      "AUC Score: 0.833\n"
     ]
    },
    {
     "data": {
      "image/png": "[encoded data removed]",
      "text/plain": [
       "<Figure size 432x288 with 1 Axes>"
      ]
     },
     "metadata": {
      "needs_background": "light"
     },
     "output_type": "display_data"
    }
   ],
   "source": [
    "probs_lda_train = lda.predict_proba(x_train)\n",
    "\n",
    "probs_lda_train = probs_lda_train[:, 1]\n",
    "\n",
    "auc_score_train = roc_auc_score(y_train, probs_lda_train)\n",
    "print('AUC Score: %.3f' % auc_score_train)\n",
    "\n",
    "fpr, tpr, threshold = roc_curve(y_train, probs_lda_train)\n",
    "plt.plot([0,1], [0,1], linestyle = '--')\n",
    "\n",
    "plt.plot(fpr, tpr, marker='.');"
   ]
  },
  {
   "cell_type": "markdown",
   "id": "df6d82c4",
   "metadata": {},
   "source": [
    "#### Performance of Linear Discriminant Analysis on Test data"
   ]
  },
  {
   "cell_type": "code",
   "execution_count": 98,
   "id": "be4903ad",
   "metadata": {},
   "outputs": [],
   "source": [
    "y_pred_lda_test = lda.predict(x_test)"
   ]
  },
  {
   "cell_type": "code",
   "execution_count": 273,
   "id": "06ffae20",
   "metadata": {},
   "outputs": [
    {
     "name": "stdout",
     "output_type": "stream",
     "text": [
      "The accuracy score of the model in test data : 0.7835820895522388\n",
      "\n",
      "\n",
      "Classification report: \n",
      "               precision    recall  f1-score   support\n",
      "\n",
      "           0       0.69      0.57      0.62        42\n",
      "           1       0.82      0.88      0.85        92\n",
      "\n",
      "    accuracy                           0.78       134\n",
      "   macro avg       0.75      0.73      0.74       134\n",
      "weighted avg       0.78      0.78      0.78       134\n",
      "\n"
     ]
    },
    {
     "data": {
      "text/plain": [
       "<AxesSubplot:>"
      ]
     },
     "execution_count": 273,
     "metadata": {},
     "output_type": "execute_result"
    },
    {
     "data": {
      "image/png": "[encoded data removed]",
      "text/plain": [
       "<Figure size 432x288 with 1 Axes>"
      ]
     },
     "metadata": {
      "needs_background": "light"
     },
     "output_type": "display_data"
    }
   ],
   "source": [
    "print(\"The accuracy score of the model in test data :\", accuracy_score(y_test, y_pred_lda_test))\n",
    "print('\\n')\n",
    "print('Classification report: \\n',classification_report(y_test, y_pred_lda_test))\n",
    "\n",
    "\n",
    "cm_lda_test = confusion_matrix(y_test, y_pred_lda_test)\n",
    "sns.heatmap(cm_lda_test,annot=True,fmt='d',cbar=False)"
   ]
  },
  {
   "cell_type": "code",
   "execution_count": 102,
   "id": "29473320",
   "metadata": {},
   "outputs": [
    {
     "name": "stdout",
     "output_type": "stream",
     "text": [
      "AUC Score: 0.802\n"
     ]
    },
    {
     "data": {
      "image/png": "[encoded data removed]",
      "text/plain": [
       "<Figure size 432x288 with 1 Axes>"
      ]
     },
     "metadata": {
      "needs_background": "light"
     },
     "output_type": "display_data"
    }
   ],
   "source": [
    "probs_lda_test = lda.predict_proba(x_test)\n",
    "\n",
    "probs_lda_test = probs_lda_test[:, 1]\n",
    "\n",
    "auc_score_test = roc_auc_score(y_test, probs_lda_test)\n",
    "print('AUC Score: %.3f' % auc_score_test)\n",
    "\n",
    "fpr, tpr, threshold = roc_curve(y_test, probs_lda_test)\n",
    "plt.plot([0,1], [0,1], linestyle = '--')\n",
    "\n",
    "plt.plot(fpr, tpr, marker='.');"
   ]
  },
  {
   "cell_type": "markdown",
   "id": "b4422789",
   "metadata": {},
   "source": [
    "#### c. Decision Tree Classifier – CART model"
   ]
  },
  {
   "cell_type": "code",
   "execution_count": 104,
   "id": "49f8e7bf",
   "metadata": {},
   "outputs": [],
   "source": [
    "from sklearn.tree import DecisionTreeClassifier\n",
    "\n",
    "from sklearn.model_selection import GridSearchCV"
   ]
  },
  {
   "cell_type": "code",
   "execution_count": 105,
   "id": "5767f41d",
   "metadata": {},
   "outputs": [],
   "source": [
    "param_grid_dtcl = {\n",
    "    'criterion': ['gini'],\n",
    "    'max_depth': [10,20,],\n",
    "    'min_samples_leaf': [25,50], \n",
    "    'min_samples_split': [100, 150],\n",
    "}"
   ]
  },
  {
   "cell_type": "code",
   "execution_count": 106,
   "id": "c762fddd",
   "metadata": {},
   "outputs": [],
   "source": [
    "dtcl = DecisionTreeClassifier(random_state= 1)\n",
    "\n",
    "grid_search_dtcl = GridSearchCV(estimator = dtcl, param_grid = param_grid_dtcl, cv = 10)"
   ]
  },
  {
   "cell_type": "code",
   "execution_count": 107,
   "id": "090d2494",
   "metadata": {},
   "outputs": [
    {
     "name": "stdout",
     "output_type": "stream",
     "text": [
      "{'criterion': 'gini', 'max_depth': 10, 'min_samples_leaf': 50, 'min_samples_split': 100}\n"
     ]
    },
    {
     "data": {
      "text/plain": [
       "DecisionTreeClassifier(max_depth=10, min_samples_leaf=50, min_samples_split=100,\n",
       "                       random_state=1)"
      ]
     },
     "execution_count": 107,
     "metadata": {},
     "output_type": "execute_result"
    }
   ],
   "source": [
    "grid_search_dtcl.fit(x_train, y_train)\n",
    "print(grid_search_dtcl.best_params_)\n",
    "best_grid_dtcl = grid_search_dtcl.best_estimator_\n",
    "best_grid_dtcl"
   ]
  },
  {
   "cell_type": "code",
   "execution_count": 108,
   "id": "375d054d",
   "metadata": {},
   "outputs": [],
   "source": [
    "reg_dtcl = DecisionTreeClassifier(max_depth=10, min_samples_leaf=50, min_samples_split=100,\n",
    "                       random_state=1)"
   ]
  },
  {
   "cell_type": "code",
   "execution_count": 109,
   "id": "e93144c0",
   "metadata": {},
   "outputs": [
    {
     "data": {
      "text/plain": [
       "DecisionTreeClassifier(max_depth=10, min_samples_leaf=50, min_samples_split=100,\n",
       "                       random_state=1)"
      ]
     },
     "execution_count": 109,
     "metadata": {},
     "output_type": "execute_result"
    }
   ],
   "source": [
    "reg_dtcl.fit(x_train, y_train)"
   ]
  },
  {
   "cell_type": "code",
   "execution_count": 110,
   "id": "da874dec",
   "metadata": {},
   "outputs": [
    {
     "data": {
      "text/plain": [
       "array([0.22062472, 0.        , 0.        , 0.        , 0.        ,\n",
       "       0.06685843, 0.        , 0.71251685])"
      ]
     },
     "execution_count": 110,
     "metadata": {},
     "output_type": "execute_result"
    }
   ],
   "source": [
    "reg_dtcl.feature_importances_"
   ]
  },
  {
   "cell_type": "code",
   "execution_count": 112,
   "id": "60a4eef8",
   "metadata": {},
   "outputs": [
    {
     "name": "stdout",
     "output_type": "stream",
     "text": [
      "          Feature Importance\n",
      "Age                 0.220625\n",
      "Gender              0.000000\n",
      "Engineer            0.000000\n",
      "MBA                 0.000000\n",
      "Work Exp            0.000000\n",
      "Salary              0.066858\n",
      "Distance            0.000000\n",
      "license             0.712517\n"
     ]
    }
   ],
   "source": [
    "print(pd.DataFrame(reg_dtcl.feature_importances_, columns = [\"Feature Importance\"], \n",
    "                   index = ['Age', 'Gender', 'Engineer', 'MBA', 'Work Exp', 'Salary', 'Distance', 'license']))"
   ]
  },
  {
   "cell_type": "markdown",
   "id": "bc7057e5",
   "metadata": {},
   "source": [
    "#### Performance of Decision Tree Classifier on Train data"
   ]
  },
  {
   "cell_type": "code",
   "execution_count": 113,
   "id": "c928bf16",
   "metadata": {},
   "outputs": [],
   "source": [
    "ytrain_predict_dtcl = reg_dtcl.predict(x_train)"
   ]
  },
  {
   "cell_type": "code",
   "execution_count": 238,
   "id": "d9804fbf",
   "metadata": {},
   "outputs": [
    {
     "name": "stdout",
     "output_type": "stream",
     "text": [
      "The accuracy score of the model in train data : 0.7677419354838709\n",
      "\n",
      "\n",
      "Classification report: \n",
      "               precision    recall  f1-score   support\n",
      "\n",
      "           0       0.72      0.48      0.58       102\n",
      "           1       0.78      0.91      0.84       208\n",
      "\n",
      "    accuracy                           0.77       310\n",
      "   macro avg       0.75      0.69      0.71       310\n",
      "weighted avg       0.76      0.77      0.75       310\n",
      "\n"
     ]
    },
    {
     "data": {
      "image/png": "[encoded data removed]",
      "text/plain": [
       "<Figure size 432x288 with 1 Axes>"
      ]
     },
     "metadata": {
      "needs_background": "light"
     },
     "output_type": "display_data"
    }
   ],
   "source": [
    "print(\"The accuracy score of the model in train data :\", accuracy_score(y_train, ytrain_predict_dtcl))\n",
    "print('\\n')\n",
    "print('Classification report: \\n',classification_report(y_train, ytrain_predict_dtcl))\n",
    "\n",
    "\n",
    "cm_dtcl_train = confusion_matrix(y_train, ytrain_predict_dtcl)\n",
    "sns.heatmap(cm_dtcl_train,annot=True,fmt='d',cbar=False);"
   ]
  },
  {
   "cell_type": "code",
   "execution_count": 117,
   "id": "a7a2de74",
   "metadata": {},
   "outputs": [
    {
     "name": "stdout",
     "output_type": "stream",
     "text": [
      "AUC Score: 0.805\n"
     ]
    },
    {
     "data": {
      "image/png": "[encoded data removed]",
      "text/plain": [
       "<Figure size 432x288 with 1 Axes>"
      ]
     },
     "metadata": {
      "needs_background": "light"
     },
     "output_type": "display_data"
    }
   ],
   "source": [
    "probs_dtcl_train = reg_dtcl.predict_proba(x_train)\n",
    "\n",
    "probs_dtcl_train = probs_dtcl_train[:, 1]\n",
    "\n",
    "auc_score_train = roc_auc_score(y_train, probs_dtcl_train)\n",
    "print('AUC Score: %.3f' % auc_score_train)\n",
    "\n",
    "fpr, tpr, threshold = roc_curve(y_train, probs_dtcl_train)\n",
    "plt.plot([0,1], [0,1], linestyle = '--')\n",
    "\n",
    "plt.plot(fpr, tpr, marker='.');"
   ]
  },
  {
   "cell_type": "markdown",
   "id": "7a85c3ab",
   "metadata": {},
   "source": [
    "#### Performance of Decision Tree Classifier on Test data"
   ]
  },
  {
   "cell_type": "code",
   "execution_count": 118,
   "id": "46dd5a17",
   "metadata": {},
   "outputs": [],
   "source": [
    "ytest_predict_dtcl = reg_dtcl.predict(x_test)"
   ]
  },
  {
   "cell_type": "code",
   "execution_count": 237,
   "id": "7d2676bc",
   "metadata": {},
   "outputs": [
    {
     "name": "stdout",
     "output_type": "stream",
     "text": [
      "The accuracy score of the model in test data : 0.746268656716418\n",
      "\n",
      "\n",
      "Classification report: \n",
      "               precision    recall  f1-score   support\n",
      "\n",
      "           0       0.61      0.52      0.56        42\n",
      "           1       0.80      0.85      0.82        92\n",
      "\n",
      "    accuracy                           0.75       134\n",
      "   macro avg       0.70      0.69      0.69       134\n",
      "weighted avg       0.74      0.75      0.74       134\n",
      "\n"
     ]
    },
    {
     "data": {
      "image/png": "[encoded data removed]",
      "text/plain": [
       "<Figure size 432x288 with 1 Axes>"
      ]
     },
     "metadata": {
      "needs_background": "light"
     },
     "output_type": "display_data"
    }
   ],
   "source": [
    "print(\"The accuracy score of the model in test data :\", accuracy_score(y_test, ytest_predict_dtcl))\n",
    "print('\\n')\n",
    "print('Classification report: \\n',classification_report(y_test, ytest_predict_dtcl))\n",
    "\n",
    "cm_dtcl_test = confusion_matrix(y_test, ytest_predict_dtcl)\n",
    "sns.heatmap(cm_dtcl_test,annot=True,fmt='d',cbar=False);"
   ]
  },
  {
   "cell_type": "code",
   "execution_count": 121,
   "id": "25506a0c",
   "metadata": {},
   "outputs": [
    {
     "name": "stdout",
     "output_type": "stream",
     "text": [
      "AUC Score: 0.716\n"
     ]
    },
    {
     "data": {
      "image/png": "[encoded data removed]",
      "text/plain": [
       "<Figure size 432x288 with 1 Axes>"
      ]
     },
     "metadata": {
      "needs_background": "light"
     },
     "output_type": "display_data"
    }
   ],
   "source": [
    "probs_dtcl_test = reg_dtcl.predict_proba(x_test)\n",
    "\n",
    "probs_dtcl_test = probs_dtcl_test[:, 1]\n",
    "\n",
    "auc_score_train = roc_auc_score(y_test, probs_dtcl_test)\n",
    "print('AUC Score: %.3f' % auc_score_train)\n",
    "\n",
    "fpr, tpr, threshold = roc_curve(y_test, probs_dtcl_test)\n",
    "plt.plot([0,1], [0,1], linestyle = '--')\n",
    "\n",
    "plt.plot(fpr, tpr, marker='.');"
   ]
  },
  {
   "cell_type": "markdown",
   "id": "0fb82092",
   "metadata": {},
   "source": [
    "#### d. Naïve Bayes Model"
   ]
  },
  {
   "cell_type": "code",
   "execution_count": 122,
   "id": "b249e909",
   "metadata": {},
   "outputs": [],
   "source": [
    "from sklearn.naive_bayes import GaussianNB"
   ]
  },
  {
   "cell_type": "code",
   "execution_count": 123,
   "id": "1baf5589",
   "metadata": {},
   "outputs": [],
   "source": [
    "gnb = GaussianNB()"
   ]
  },
  {
   "cell_type": "code",
   "execution_count": 124,
   "id": "a48c4af6",
   "metadata": {},
   "outputs": [
    {
     "data": {
      "text/plain": [
       "GaussianNB()"
      ]
     },
     "execution_count": 124,
     "metadata": {},
     "output_type": "execute_result"
    }
   ],
   "source": [
    "gnb.fit(x_train, y_train)"
   ]
  },
  {
   "cell_type": "markdown",
   "id": "ad6f926a",
   "metadata": {},
   "source": [
    "#### Performance of Naïve Bayes Model on Train data"
   ]
  },
  {
   "cell_type": "code",
   "execution_count": 125,
   "id": "e1d5a4ee",
   "metadata": {},
   "outputs": [],
   "source": [
    "y_pred_gnb_train = gnb.predict(x_train)"
   ]
  },
  {
   "cell_type": "code",
   "execution_count": 274,
   "id": "bf7b336e",
   "metadata": {},
   "outputs": [
    {
     "name": "stdout",
     "output_type": "stream",
     "text": [
      "The accuracy score of the model in train data : 0.7645161290322581\n",
      "\n",
      "\n",
      "Classification report: \n",
      "               precision    recall  f1-score   support\n",
      "\n",
      "           0       0.67      0.56      0.61       102\n",
      "           1       0.80      0.87      0.83       208\n",
      "\n",
      "    accuracy                           0.76       310\n",
      "   macro avg       0.74      0.71      0.72       310\n",
      "weighted avg       0.76      0.76      0.76       310\n",
      "\n"
     ]
    },
    {
     "data": {
      "image/png": "[encoded data removed]",
      "text/plain": [
       "<Figure size 432x288 with 1 Axes>"
      ]
     },
     "metadata": {
      "needs_background": "light"
     },
     "output_type": "display_data"
    }
   ],
   "source": [
    "print(\"The accuracy score of the model in train data :\", accuracy_score(y_train, y_pred_gnb_train))\n",
    "print('\\n')\n",
    "print('Classification report: \\n',classification_report(y_train, y_pred_gnb_train))\n",
    "\n",
    "\n",
    "cm_gnb_train = confusion_matrix(y_train, y_pred_gnb_train)\n",
    "sns.heatmap(cm_gnb_train,annot=True,fmt='d',cbar=False);"
   ]
  },
  {
   "cell_type": "code",
   "execution_count": 128,
   "id": "e4a123e7",
   "metadata": {},
   "outputs": [
    {
     "name": "stdout",
     "output_type": "stream",
     "text": [
      "AUC Score: 0.791\n"
     ]
    },
    {
     "data": {
      "image/png": "[encoded data removed]",
      "text/plain": [
       "<Figure size 432x288 with 1 Axes>"
      ]
     },
     "metadata": {
      "needs_background": "light"
     },
     "output_type": "display_data"
    }
   ],
   "source": [
    "probs_gnb_train = gnb.predict_proba(x_train)\n",
    "\n",
    "probs_gnb_train = probs_gnb_train[:, 1]\n",
    "\n",
    "auc_score_train = roc_auc_score(y_train, probs_gnb_train)\n",
    "print('AUC Score: %.3f' % auc_score_train)\n",
    "\n",
    "fpr, tpr, threshold = roc_curve(y_train, probs_gnb_train)\n",
    "plt.plot([0,1], [0,1], linestyle = '--')\n",
    "\n",
    "plt.plot(fpr, tpr, marker='.');"
   ]
  },
  {
   "cell_type": "markdown",
   "id": "c5e2ade3",
   "metadata": {},
   "source": [
    "#### Performance of Naïve Bayes Model on Test data"
   ]
  },
  {
   "cell_type": "code",
   "execution_count": 129,
   "id": "a363dc0f",
   "metadata": {},
   "outputs": [],
   "source": [
    "y_pred_gnb_test = gnb.predict(x_test)"
   ]
  },
  {
   "cell_type": "code",
   "execution_count": 235,
   "id": "de0aaa0a",
   "metadata": {},
   "outputs": [
    {
     "name": "stdout",
     "output_type": "stream",
     "text": [
      "The accuracy score of the model in test data : 0.7835820895522388\n",
      "\n",
      "\n",
      "Classification report: \n",
      "               precision    recall  f1-score   support\n",
      "\n",
      "           0       0.66      0.64      0.65        42\n",
      "           1       0.84      0.85      0.84        92\n",
      "\n",
      "    accuracy                           0.78       134\n",
      "   macro avg       0.75      0.75      0.75       134\n",
      "weighted avg       0.78      0.78      0.78       134\n",
      "\n"
     ]
    },
    {
     "data": {
      "image/png": "[encoded data removed]",
      "text/plain": [
       "<Figure size 432x288 with 1 Axes>"
      ]
     },
     "metadata": {
      "needs_background": "light"
     },
     "output_type": "display_data"
    }
   ],
   "source": [
    "print(\"The accuracy score of the model in test data :\", accuracy_score(y_test, y_pred_gnb_test))\n",
    "print('\\n')\n",
    "print('Classification report: \\n',classification_report(y_test, y_pred_gnb_test))\n",
    "\n",
    "cm_gnb_test = confusion_matrix(y_test, y_pred_gnb_test)\n",
    "sns.heatmap(cm_gnb_test,annot=True,fmt='d',cbar=False);"
   ]
  },
  {
   "cell_type": "code",
   "execution_count": 132,
   "id": "11accca3",
   "metadata": {},
   "outputs": [
    {
     "name": "stdout",
     "output_type": "stream",
     "text": [
      "AUC Score: 0.786\n"
     ]
    },
    {
     "data": {
      "image/png": "[encoded data removed]",
      "text/plain": [
       "<Figure size 432x288 with 1 Axes>"
      ]
     },
     "metadata": {
      "needs_background": "light"
     },
     "output_type": "display_data"
    }
   ],
   "source": [
    "probs_gnb_test = gnb.predict_proba(x_test)\n",
    "\n",
    "probs_gnb_test = probs_gnb_test[:, 1]\n",
    "\n",
    "auc_score_train = roc_auc_score(y_test, probs_gnb_test)\n",
    "print('AUC Score: %.3f' % auc_score_train)\n",
    "\n",
    "fpr, tpr, threshold = roc_curve(y_test, probs_gnb_test)\n",
    "plt.plot([0,1], [0,1], linestyle = '--')\n",
    "\n",
    "plt.plot(fpr, tpr, marker='.');"
   ]
  },
  {
   "cell_type": "markdown",
   "id": "694cc578",
   "metadata": {},
   "source": [
    "#### e. KNN Model"
   ]
  },
  {
   "cell_type": "code",
   "execution_count": 133,
   "id": "42193133",
   "metadata": {},
   "outputs": [],
   "source": [
    "from sklearn.neighbors import KNeighborsClassifier"
   ]
  },
  {
   "cell_type": "code",
   "execution_count": 170,
   "id": "badda890",
   "metadata": {},
   "outputs": [],
   "source": [
    "knn = KNeighborsClassifier(n_neighbors=5)"
   ]
  },
  {
   "cell_type": "code",
   "execution_count": 171,
   "id": "740e3f16",
   "metadata": {},
   "outputs": [
    {
     "data": {
      "text/plain": [
       "KNeighborsClassifier()"
      ]
     },
     "execution_count": 171,
     "metadata": {},
     "output_type": "execute_result"
    }
   ],
   "source": [
    "knn.fit(x_train, y_train)"
   ]
  },
  {
   "cell_type": "code",
   "execution_count": 172,
   "id": "adcdce98",
   "metadata": {},
   "outputs": [
    {
     "data": {
      "text/plain": [
       "0.7910447761194029"
      ]
     },
     "execution_count": 172,
     "metadata": {},
     "output_type": "execute_result"
    }
   ],
   "source": [
    "knn.score(x_test, y_test)"
   ]
  },
  {
   "cell_type": "markdown",
   "id": "2dfa4b32",
   "metadata": {},
   "source": [
    "#### Performance of KNN Model on Train data"
   ]
  },
  {
   "cell_type": "code",
   "execution_count": 173,
   "id": "49df5360",
   "metadata": {},
   "outputs": [],
   "source": [
    "y_pred_knn_train = knn.predict(x_train)"
   ]
  },
  {
   "cell_type": "code",
   "execution_count": 234,
   "id": "4ba7c4b4",
   "metadata": {},
   "outputs": [
    {
     "name": "stdout",
     "output_type": "stream",
     "text": [
      "The accuracy score of the model in train data : 0.8387096774193549\n",
      "\n",
      "\n",
      "Classification report: \n",
      "               precision    recall  f1-score   support\n",
      "\n",
      "           0       0.83      0.64      0.72       102\n",
      "           1       0.84      0.94      0.89       208\n",
      "\n",
      "    accuracy                           0.84       310\n",
      "   macro avg       0.84      0.79      0.80       310\n",
      "weighted avg       0.84      0.84      0.83       310\n",
      "\n"
     ]
    },
    {
     "data": {
      "image/png": "[encoded data removed]",
      "text/plain": [
       "<Figure size 432x288 with 1 Axes>"
      ]
     },
     "metadata": {
      "needs_background": "light"
     },
     "output_type": "display_data"
    }
   ],
   "source": [
    "print(\"The accuracy score of the model in train data :\", accuracy_score(y_train, y_pred_knn_train))\n",
    "print('\\n')\n",
    "print('Classification report: \\n',classification_report(y_train, y_pred_knn_train))\n",
    "\n",
    "cm_knn_train = confusion_matrix(y_train, y_pred_knn_train)\n",
    "sns.heatmap(cm_knn_train,annot=True,fmt='d',cbar=False);"
   ]
  },
  {
   "cell_type": "code",
   "execution_count": 176,
   "id": "86cafa93",
   "metadata": {},
   "outputs": [
    {
     "name": "stdout",
     "output_type": "stream",
     "text": [
      "AUC Score: 0.919\n"
     ]
    },
    {
     "data": {
      "image/png": "[encoded data removed]",
      "text/plain": [
       "<Figure size 432x288 with 1 Axes>"
      ]
     },
     "metadata": {
      "needs_background": "light"
     },
     "output_type": "display_data"
    }
   ],
   "source": [
    "probs_knn_train = knn.predict_proba(x_train)\n",
    "\n",
    "probs_knn_train = probs_knn_train[:, 1]\n",
    "\n",
    "auc_score_train = roc_auc_score(y_train, probs_knn_train)\n",
    "print('AUC Score: %.3f' % auc_score_train)\n",
    "\n",
    "fpr, tpr, threshold = roc_curve(y_train, probs_knn_train)\n",
    "plt.plot([0,1], [0,1], linestyle = '--')\n",
    "\n",
    "plt.plot(fpr, tpr, marker='.');"
   ]
  },
  {
   "cell_type": "markdown",
   "id": "c1bbd670",
   "metadata": {},
   "source": [
    "#### Performance of KNN Model on Test data"
   ]
  },
  {
   "cell_type": "code",
   "execution_count": 177,
   "id": "01ae7b9b",
   "metadata": {},
   "outputs": [],
   "source": [
    "y_pred_knn_test = knn.predict(x_test)"
   ]
  },
  {
   "cell_type": "code",
   "execution_count": 233,
   "id": "a56f7225",
   "metadata": {},
   "outputs": [
    {
     "name": "stdout",
     "output_type": "stream",
     "text": [
      "The accuracy score of the model in test data : 0.7910447761194029\n",
      "\n",
      "\n",
      "Classification report: \n",
      "               precision    recall  f1-score   support\n",
      "\n",
      "           0       0.71      0.57      0.63        42\n",
      "           1       0.82      0.89      0.85        92\n",
      "\n",
      "    accuracy                           0.79       134\n",
      "   macro avg       0.76      0.73      0.74       134\n",
      "weighted avg       0.78      0.79      0.78       134\n",
      "\n"
     ]
    },
    {
     "data": {
      "image/png": "[encoded data removed]",
      "text/plain": [
       "<Figure size 432x288 with 1 Axes>"
      ]
     },
     "metadata": {
      "needs_background": "light"
     },
     "output_type": "display_data"
    }
   ],
   "source": [
    "print(\"The accuracy score of the model in test data :\", accuracy_score(y_test, y_pred_knn_test))\n",
    "print('\\n')\n",
    "print('Classification report: \\n',classification_report(y_test, y_pred_knn_test))\n",
    "\n",
    "cm_knn_test = confusion_matrix(y_test, y_pred_knn_test)\n",
    "sns.heatmap(cm_knn_test,annot=True,fmt='d',cbar=False);"
   ]
  },
  {
   "cell_type": "code",
   "execution_count": 180,
   "id": "0d2a1e35",
   "metadata": {},
   "outputs": [
    {
     "name": "stdout",
     "output_type": "stream",
     "text": [
      "AUC Score: 0.762\n"
     ]
    },
    {
     "data": {
      "image/png": "[encoded data removed]",
      "text/plain": [
       "<Figure size 432x288 with 1 Axes>"
      ]
     },
     "metadata": {
      "needs_background": "light"
     },
     "output_type": "display_data"
    }
   ],
   "source": [
    "probs_knn_test = knn.predict_proba(x_test)\n",
    "\n",
    "probs_knn_test = probs_knn_test[:, 1]\n",
    "\n",
    "auc_score_train = roc_auc_score(y_test, probs_knn_test)\n",
    "print('AUC Score: %.3f' % auc_score_train)\n",
    "\n",
    "fpr, tpr, threshold = roc_curve(y_test, probs_knn_test)\n",
    "plt.plot([0,1], [0,1], linestyle = '--')\n",
    "\n",
    "plt.plot(fpr, tpr, marker='.');"
   ]
  },
  {
   "cell_type": "markdown",
   "id": "40afe731",
   "metadata": {},
   "source": [
    "#### f. Random Forest Model"
   ]
  },
  {
   "cell_type": "code",
   "execution_count": 181,
   "id": "0a17382c",
   "metadata": {},
   "outputs": [],
   "source": [
    "from sklearn.ensemble import RandomForestClassifier"
   ]
  },
  {
   "cell_type": "code",
   "execution_count": 182,
   "id": "b4c6dff8",
   "metadata": {},
   "outputs": [],
   "source": [
    "rfcl = RandomForestClassifier()"
   ]
  },
  {
   "cell_type": "code",
   "execution_count": 198,
   "id": "503428d1",
   "metadata": {},
   "outputs": [],
   "source": [
    "rfcl = RandomForestClassifier(n_estimators=250, oob_score=True, max_depth=4, \n",
    "                              max_features=5, min_samples_leaf= 50, min_samples_split=50, random_state=1)"
   ]
  },
  {
   "cell_type": "code",
   "execution_count": 199,
   "id": "a3023cfd",
   "metadata": {},
   "outputs": [],
   "source": [
    "rfcl = rfcl.fit(x_train, y_train)"
   ]
  },
  {
   "cell_type": "code",
   "execution_count": 200,
   "id": "20b84920",
   "metadata": {},
   "outputs": [
    {
     "data": {
      "text/plain": [
       "0.7451612903225806"
      ]
     },
     "execution_count": 200,
     "metadata": {},
     "output_type": "execute_result"
    }
   ],
   "source": [
    "rfcl.oob_score_"
   ]
  },
  {
   "cell_type": "code",
   "execution_count": 201,
   "id": "ab8ec75d",
   "metadata": {},
   "outputs": [],
   "source": [
    "param_grid_rfcl = {\n",
    "    'max_depth': [4,5],\n",
    "    'max_features': [4,5],\n",
    "    'min_samples_leaf': [5,10],\n",
    "    'min_samples_split': [15,30],\n",
    "    'n_estimators': [250,350] \n",
    "}"
   ]
  },
  {
   "cell_type": "code",
   "execution_count": 202,
   "id": "eaa6943a",
   "metadata": {},
   "outputs": [],
   "source": [
    "grid_search_rfcl = GridSearchCV(estimator=rfcl, param_grid=param_grid_rfcl, cv =2)"
   ]
  },
  {
   "cell_type": "code",
   "execution_count": 203,
   "id": "44e437e1",
   "metadata": {},
   "outputs": [
    {
     "data": {
      "text/plain": [
       "GridSearchCV(cv=2,\n",
       "             estimator=RandomForestClassifier(max_depth=4, max_features=5,\n",
       "                                              min_samples_leaf=50,\n",
       "                                              min_samples_split=50,\n",
       "                                              n_estimators=250, oob_score=True,\n",
       "                                              random_state=1),\n",
       "             param_grid={'max_depth': [4, 5], 'max_features': [4, 5],\n",
       "                         'min_samples_leaf': [5, 10],\n",
       "                         'min_samples_split': [15, 30],\n",
       "                         'n_estimators': [250, 350]})"
      ]
     },
     "execution_count": 203,
     "metadata": {},
     "output_type": "execute_result"
    }
   ],
   "source": [
    "grid_search_rfcl.fit(x_train, y_train)"
   ]
  },
  {
   "cell_type": "code",
   "execution_count": 204,
   "id": "2f210802",
   "metadata": {},
   "outputs": [
    {
     "data": {
      "text/plain": [
       "{'max_depth': 5,\n",
       " 'max_features': 5,\n",
       " 'min_samples_leaf': 5,\n",
       " 'min_samples_split': 15,\n",
       " 'n_estimators': 250}"
      ]
     },
     "execution_count": 204,
     "metadata": {},
     "output_type": "execute_result"
    }
   ],
   "source": [
    "grid_search_rfcl.best_params_"
   ]
  },
  {
   "cell_type": "code",
   "execution_count": 205,
   "id": "475362f4",
   "metadata": {},
   "outputs": [
    {
     "data": {
      "text/plain": [
       "RandomForestClassifier(max_depth=5, max_features=5, min_samples_leaf=5,\n",
       "                       min_samples_split=15, n_estimators=250, oob_score=True,\n",
       "                       random_state=1)"
      ]
     },
     "execution_count": 205,
     "metadata": {},
     "output_type": "execute_result"
    }
   ],
   "source": [
    "grid_search_rfcl.best_estimator_"
   ]
  },
  {
   "cell_type": "code",
   "execution_count": 206,
   "id": "ca7a2af8",
   "metadata": {},
   "outputs": [],
   "source": [
    "rfcl = RandomForestClassifier(max_depth=5, max_features=5, min_samples_leaf=5,\n",
    "                       min_samples_split=15, n_estimators=250, oob_score=True,\n",
    "                       random_state=1)"
   ]
  },
  {
   "cell_type": "code",
   "execution_count": 207,
   "id": "4c57e284",
   "metadata": {},
   "outputs": [
    {
     "data": {
      "text/plain": [
       "RandomForestClassifier(max_depth=5, max_features=5, min_samples_leaf=5,\n",
       "                       min_samples_split=15, n_estimators=250, oob_score=True,\n",
       "                       random_state=1)"
      ]
     },
     "execution_count": 207,
     "metadata": {},
     "output_type": "execute_result"
    }
   ],
   "source": [
    "rfcl.fit(x_train, y_train)"
   ]
  },
  {
   "cell_type": "markdown",
   "id": "e3855006",
   "metadata": {},
   "source": [
    "#### Performance of Random Forest Model on Train data"
   ]
  },
  {
   "cell_type": "code",
   "execution_count": 208,
   "id": "b4dcf3ef",
   "metadata": {},
   "outputs": [],
   "source": [
    "y_pred_rfcl_train = rfcl.predict(x_train)"
   ]
  },
  {
   "cell_type": "code",
   "execution_count": 232,
   "id": "8fa8c909",
   "metadata": {},
   "outputs": [
    {
     "name": "stdout",
     "output_type": "stream",
     "text": [
      "The accuracy score of the model in train data : 0.8774193548387097\n",
      "\n",
      "\n",
      "Classification report: \n",
      "               precision    recall  f1-score   support\n",
      "\n",
      "           0       0.91      0.70      0.79       102\n",
      "           1       0.87      0.97      0.91       208\n",
      "\n",
      "    accuracy                           0.88       310\n",
      "   macro avg       0.89      0.83      0.85       310\n",
      "weighted avg       0.88      0.88      0.87       310\n",
      "\n"
     ]
    },
    {
     "data": {
      "image/png": "[encoded data removed]",
      "text/plain": [
       "<Figure size 432x288 with 1 Axes>"
      ]
     },
     "metadata": {
      "needs_background": "light"
     },
     "output_type": "display_data"
    }
   ],
   "source": [
    "print(\"The accuracy score of the model in train data :\", accuracy_score(y_train, y_pred_rfcl_train))\n",
    "print('\\n')\n",
    "print('Classification report: \\n',classification_report(y_train, y_pred_rfcl_train))\n",
    "\n",
    "cm_rfcl_train = confusion_matrix(y_train, y_pred_rfcl_train)\n",
    "sns.heatmap(cm_rfcl_train,annot=True,fmt='d',cbar=False);"
   ]
  },
  {
   "cell_type": "code",
   "execution_count": 211,
   "id": "a585ccbb",
   "metadata": {},
   "outputs": [
    {
     "name": "stdout",
     "output_type": "stream",
     "text": [
      "AUC Score: 0.948\n"
     ]
    },
    {
     "data": {
      "image/png": "[encoded data removed]",
      "text/plain": [
       "<Figure size 432x288 with 1 Axes>"
      ]
     },
     "metadata": {
      "needs_background": "light"
     },
     "output_type": "display_data"
    }
   ],
   "source": [
    "probs_rfcl_train = rfcl.predict_proba(x_train)\n",
    "\n",
    "probs_rfcl_train = probs_rfcl_train[:, 1]\n",
    "\n",
    "auc_score_train = roc_auc_score(y_train, probs_rfcl_train)\n",
    "print('AUC Score: %.3f' % auc_score_train)\n",
    "\n",
    "fpr, tpr, threshold = roc_curve(y_train, probs_rfcl_train)\n",
    "plt.plot([0,1], [0,1], linestyle = '--')\n",
    "\n",
    "plt.plot(fpr, tpr, marker='.');"
   ]
  },
  {
   "cell_type": "markdown",
   "id": "776588af",
   "metadata": {},
   "source": [
    "#### Performance of Random Forest Model on Test data"
   ]
  },
  {
   "cell_type": "code",
   "execution_count": 212,
   "id": "534805a2",
   "metadata": {},
   "outputs": [],
   "source": [
    "y_pred_rfcl_test = rfcl.predict(x_test)"
   ]
  },
  {
   "cell_type": "code",
   "execution_count": 231,
   "id": "38b3dcc6",
   "metadata": {},
   "outputs": [
    {
     "name": "stdout",
     "output_type": "stream",
     "text": [
      "The accuracy score of the model in test data : 0.8134328358208955\n",
      "\n",
      "\n",
      "Classification report: \n",
      "               precision    recall  f1-score   support\n",
      "\n",
      "           0       0.76      0.60      0.67        42\n",
      "           1       0.83      0.91      0.87        92\n",
      "\n",
      "    accuracy                           0.81       134\n",
      "   macro avg       0.79      0.75      0.77       134\n",
      "weighted avg       0.81      0.81      0.81       134\n",
      "\n"
     ]
    },
    {
     "data": {
      "image/png": "[encoded data removed]",
      "text/plain": [
       "<Figure size 432x288 with 1 Axes>"
      ]
     },
     "metadata": {
      "needs_background": "light"
     },
     "output_type": "display_data"
    }
   ],
   "source": [
    "print(\"The accuracy score of the model in test data :\", accuracy_score(y_test, y_pred_rfcl_test))\n",
    "print('\\n')\n",
    "print('Classification report: \\n',classification_report(y_test, y_pred_rfcl_test))\n",
    "\n",
    "cm_rfcl_test = confusion_matrix(y_test, y_pred_rfcl_test)\n",
    "sns.heatmap(cm_rfcl_test,annot=True,fmt='d',cbar=False);"
   ]
  },
  {
   "cell_type": "code",
   "execution_count": 216,
   "id": "df4a5901",
   "metadata": {},
   "outputs": [
    {
     "name": "stdout",
     "output_type": "stream",
     "text": [
      "AUC Score: 0.817\n"
     ]
    },
    {
     "data": {
      "image/png": "[encoded data removed]",
      "text/plain": [
       "<Figure size 432x288 with 1 Axes>"
      ]
     },
     "metadata": {
      "needs_background": "light"
     },
     "output_type": "display_data"
    }
   ],
   "source": [
    "probs_rfcl_test = rfcl.predict_proba(x_test)\n",
    "\n",
    "probs_rfcl_test = probs_rfcl_test[:, 1]\n",
    "\n",
    "auc_score_train = roc_auc_score(y_test, probs_rfcl_test)\n",
    "print('AUC Score: %.3f' % auc_score_train)\n",
    "\n",
    "fpr, tpr, threshold = roc_curve(y_test, probs_rfcl_test)\n",
    "plt.plot([0,1], [0,1], linestyle = '--')\n",
    "\n",
    "plt.plot(fpr, tpr, marker='.');"
   ]
  },
  {
   "cell_type": "markdown",
   "id": "a33ad5c4",
   "metadata": {},
   "source": [
    "#### g. Boosting Classifier Model using Gradient boost."
   ]
  },
  {
   "cell_type": "code",
   "execution_count": 217,
   "id": "23c51ad1",
   "metadata": {},
   "outputs": [],
   "source": [
    "from sklearn.ensemble import GradientBoostingClassifier"
   ]
  },
  {
   "cell_type": "code",
   "execution_count": 220,
   "id": "bb4855d5",
   "metadata": {},
   "outputs": [],
   "source": [
    "gbc = GradientBoostingClassifier()"
   ]
  },
  {
   "cell_type": "code",
   "execution_count": 221,
   "id": "b06158c5",
   "metadata": {},
   "outputs": [
    {
     "data": {
      "text/plain": [
       "GradientBoostingClassifier()"
      ]
     },
     "execution_count": 221,
     "metadata": {},
     "output_type": "execute_result"
    }
   ],
   "source": [
    "gbc.fit(x_train, y_train)"
   ]
  },
  {
   "cell_type": "markdown",
   "id": "f783c1fa",
   "metadata": {},
   "source": [
    "#### Performance of Boosting Classifier Model using Gradient boost on Train data"
   ]
  },
  {
   "cell_type": "code",
   "execution_count": 222,
   "id": "a8e17969",
   "metadata": {},
   "outputs": [],
   "source": [
    "y_pred_gbc_train = gbc.predict(x_train) "
   ]
  },
  {
   "cell_type": "code",
   "execution_count": 227,
   "id": "c0a819aa",
   "metadata": {},
   "outputs": [
    {
     "name": "stdout",
     "output_type": "stream",
     "text": [
      "The accuracy score of the model in test data : 0.964516129032258\n",
      "\n",
      "\n",
      "Classification report: \n",
      "               precision    recall  f1-score   support\n",
      "\n",
      "           0       0.98      0.91      0.94       102\n",
      "           1       0.96      0.99      0.97       208\n",
      "\n",
      "    accuracy                           0.96       310\n",
      "   macro avg       0.97      0.95      0.96       310\n",
      "weighted avg       0.96      0.96      0.96       310\n",
      "\n"
     ]
    },
    {
     "data": {
      "image/png": "[encoded data removed]",
      "text/plain": [
       "<Figure size 432x288 with 1 Axes>"
      ]
     },
     "metadata": {
      "needs_background": "light"
     },
     "output_type": "display_data"
    }
   ],
   "source": [
    "print(\"The accuracy score of the model in test data :\", accuracy_score(y_train, y_pred_gbc_train))\n",
    "print('\\n')\n",
    "print('Classification report: \\n',classification_report(y_train, y_pred_gbc_train))\n",
    "\n",
    "cm_gbc_train = confusion_matrix(y_train, y_pred_gbc_train)\n",
    "sns.heatmap(cm_gbc_train,annot=True,fmt='d',cbar=False);"
   ]
  },
  {
   "cell_type": "code",
   "execution_count": 226,
   "id": "8f040251",
   "metadata": {},
   "outputs": [
    {
     "name": "stdout",
     "output_type": "stream",
     "text": [
      "AUC Score: 0.998\n"
     ]
    },
    {
     "data": {
      "image/png": "[encoded data removed]",
      "text/plain": [
       "<Figure size 432x288 with 1 Axes>"
      ]
     },
     "metadata": {
      "needs_background": "light"
     },
     "output_type": "display_data"
    }
   ],
   "source": [
    "probs_gbc_train = gbc.predict_proba(x_train)\n",
    "\n",
    "probs_gbc_train = probs_gbc_train[:, 1]\n",
    "\n",
    "auc_score_train = roc_auc_score(y_train, probs_gbc_train)\n",
    "print('AUC Score: %.3f' % auc_score_train)\n",
    "\n",
    "fpr, tpr, threshold = roc_curve(y_train, probs_gbc_train)\n",
    "plt.plot([0,1], [0,1], linestyle = '--')\n",
    "\n",
    "plt.plot(fpr, tpr, marker='.');"
   ]
  },
  {
   "cell_type": "markdown",
   "id": "4eb44c80",
   "metadata": {},
   "source": [
    "#### Performance of Boosting Classifier Model using Gradient boost on Test data"
   ]
  },
  {
   "cell_type": "code",
   "execution_count": 228,
   "id": "bfddb411",
   "metadata": {},
   "outputs": [],
   "source": [
    "y_pred_gbc_test = gbc.predict(x_test) "
   ]
  },
  {
   "cell_type": "code",
   "execution_count": 229,
   "id": "c19c1498",
   "metadata": {},
   "outputs": [
    {
     "name": "stdout",
     "output_type": "stream",
     "text": [
      "The accuracy score of the model in test data : 0.7835820895522388\n",
      "\n",
      "\n",
      "Classification report: \n",
      "               precision    recall  f1-score   support\n",
      "\n",
      "           0       0.68      0.60      0.63        42\n",
      "           1       0.82      0.87      0.85        92\n",
      "\n",
      "    accuracy                           0.78       134\n",
      "   macro avg       0.75      0.73      0.74       134\n",
      "weighted avg       0.78      0.78      0.78       134\n",
      "\n"
     ]
    },
    {
     "data": {
      "image/png": "[encoded data removed]",
      "text/plain": [
       "<Figure size 432x288 with 1 Axes>"
      ]
     },
     "metadata": {
      "needs_background": "light"
     },
     "output_type": "display_data"
    }
   ],
   "source": [
    "print(\"The accuracy score of the model in test data :\", accuracy_score(y_test, y_pred_gbc_test))\n",
    "print('\\n')\n",
    "print('Classification report: \\n',classification_report(y_test, y_pred_gbc_test))\n",
    "\n",
    "cm_gbc_test = confusion_matrix(y_test, y_pred_gbc_test)\n",
    "sns.heatmap(cm_gbc_test,annot=True,fmt='d',cbar=False);"
   ]
  },
  {
   "cell_type": "code",
   "execution_count": 230,
   "id": "213b66f4",
   "metadata": {},
   "outputs": [
    {
     "name": "stdout",
     "output_type": "stream",
     "text": [
      "AUC Score: 0.808\n"
     ]
    },
    {
     "data": {
      "image/png": "[encoded data removed]",
      "text/plain": [
       "<Figure size 432x288 with 1 Axes>"
      ]
     },
     "metadata": {
      "needs_background": "light"
     },
     "output_type": "display_data"
    }
   ],
   "source": [
    "probs_gbc_test = gbc.predict_proba(x_test)\n",
    "\n",
    "probs_gbc_test = probs_gbc_test[:, 1]\n",
    "\n",
    "auc_score_train = roc_auc_score(y_test, probs_gbc_test)\n",
    "print('AUC Score: %.3f' % auc_score_train)\n",
    "\n",
    "fpr, tpr, threshold = roc_curve(y_test, probs_gbc_test)\n",
    "plt.plot([0,1], [0,1], linestyle = '--')\n",
    "\n",
    "plt.plot(fpr, tpr, marker='.');"
   ]
  },
  {
   "cell_type": "code",
   "execution_count": null,
   "id": "c52a14e0",
   "metadata": {},
   "outputs": [],
   "source": []
  }
 ],
 "metadata": {
  "kernelspec": {
   "display_name": "Python 3 (ipykernel)",
   "language": "python",
   "name": "python3"
  },
  "language_info": {
   "codemirror_mode": {
    "name": "ipython",
    "version": 3
   },
   "file_extension": ".py",
   "mimetype": "text/x-python",
   "name": "python",
   "nbconvert_exporter": "python",
   "pygments_lexer": "ipython3",
   "version": "3.9.7"
  }
 },
 "nbformat": 4,
 "nbformat_minor": 5
}
